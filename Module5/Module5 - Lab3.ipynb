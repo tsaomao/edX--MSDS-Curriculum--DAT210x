{
 "cells": [
  {
   "cell_type": "markdown",
   "metadata": {},
   "source": [
    "# DAT210x - Programming with Python for DS"
   ]
  },
  {
   "cell_type": "markdown",
   "metadata": {},
   "source": [
    "## Module5- Lab3"
   ]
  },
  {
   "cell_type": "code",
   "execution_count": 1,
   "metadata": {
    "collapsed": true
   },
   "outputs": [],
   "source": [
    "import pandas as pd\n",
    "from datetime import timedelta\n",
    "import matplotlib.pyplot as plt\n",
    "import matplotlib\n",
    "\n",
    "from sklearn.cluster import KMeans\n",
    "\n",
    "matplotlib.style.use('ggplot') # Look Pretty"
   ]
  },
  {
   "cell_type": "markdown",
   "metadata": {},
   "source": [
    "A convenience function for you to use:"
   ]
  },
  {
   "cell_type": "code",
   "execution_count": 2,
   "metadata": {
    "collapsed": true
   },
   "outputs": [],
   "source": [
    "def clusterInfo(model):\n",
    "    print(\"Cluster Analysis Inertia: \", model.inertia_)\n",
    "    print('------------------------------------------')\n",
    "    \n",
    "    for i in range(len(model.cluster_centers_)):\n",
    "        print(\"\\n  Cluster \", i)\n",
    "        print(\"    Centroid \", model.cluster_centers_[i])\n",
    "        print(\"    #Samples \", (model.labels_==i).sum()) # NumPy Power"
   ]
  },
  {
   "cell_type": "code",
   "execution_count": 43,
   "metadata": {
    "collapsed": true
   },
   "outputs": [],
   "source": [
    "# Find the cluster with the least # attached nodes\n",
    "def clusterWithFewestSamples(model):\n",
    "    # Ensure there's at least on cluster...\n",
    "    minSamples = len(model.labels_)\n",
    "    minCluster = 0\n",
    "    \n",
    "    for i in range(len(model.cluster_centers_)):\n",
    "        if minSamples > (model.labels_==i).sum():\n",
    "            minCluster = i\n",
    "            minSamples = (model.labels_==i).sum()\n",
    "\n",
    "    print(\"\\n  Cluster With Fewest Samples: \", minCluster)\n",
    "    return (model.labels_==minCluster)"
   ]
  },
  {
   "cell_type": "code",
   "execution_count": 4,
   "metadata": {
    "collapsed": true
   },
   "outputs": [],
   "source": [
    "# Find cluster with most # attached nodes\n",
    "def clusterWithMostSamples(model):\n",
    "    # Ensure at least one cluster\n",
    "    # minSamples is the number of points/observations in the dataframe that was clustered\n",
    "    minSamples = 0\n",
    "    maxCluster = 0\n",
    "    \n",
    "    # s/b as many .cluster_centers_ as number of clusters specified in KMeans call\n",
    "    for i in range(len(model.cluster_centers_)):\n",
    "        # check if minSamples (init = 0) is less than number of points assigned to this cluster node\n",
    "        if minSamples < (model.labels_==i).sum():\n",
    "            # if so, set maxCluster to this cluster node and set minSamples to this cluster node's number of observations\n",
    "            maxCluster = i\n",
    "            minSamples = (model.labels_==i).sum()\n",
    "            \n",
    "    print(\"\\n  Cluster with Most Samples: \", maxCluster)\n",
    "    return maxCluster"
   ]
  },
  {
   "cell_type": "markdown",
   "metadata": {
    "collapsed": true
   },
   "source": [
    "### CDRs"
   ]
  },
  {
   "cell_type": "markdown",
   "metadata": {
    "collapsed": true
   },
   "source": [
    "A [call detail record](https://en.wikipedia.org/wiki/Call_detail_record) (CDR) is a data record produced by a telephone exchange or other telecommunications equipment that documents the details of a telephone call or other telecommunications transaction (e.g., text message) that passes through that facility or device.\n",
    "\n",
    "The record contains various attributes of the call, such as time, duration, completion status, source number, and destination number. It is the automated equivalent of the paper toll tickets that were written and timed by operators for long-distance calls in a manual telephone exchange.\n",
    "\n",
    "The dataset we've curated for you contains call records for 10 people, tracked over the course of 3 years. Your job in this assignment is to find out where each of these people likely live and where they work at!\n",
    "\n",
    "Start by loading up the dataset and taking a peek at its `head` and `dtypes`. You can convert date-strings to real date-time objects using `pd.to_datetime`, and the times using `pd.to_timedelta`:"
   ]
  },
  {
   "cell_type": "code",
   "execution_count": 5,
   "metadata": {},
   "outputs": [
    {
     "data": {
      "text/plain": [
       "(53188, 10)"
      ]
     },
     "execution_count": 5,
     "metadata": {},
     "output_type": "execute_result"
    }
   ],
   "source": [
    "df = pd.read_csv('./Datasets/CDR.csv', header=0)\n",
    "df.loc[:, 'CallDate'] = pd.to_datetime(df.loc[:, 'CallDate'], errors='coerce')\n",
    "df.loc[:, 'CallTime'] = pd.to_timedelta(df.loc[:, 'CallTime'], errors='coerce')\n",
    "df.shape\n",
    "#df.head(10)\n",
    "# df.dtypes"
   ]
  },
  {
   "cell_type": "markdown",
   "metadata": {},
   "source": [
    "Create a unique list of the phone number values (people) stored in the `In` column of the dataset, and save them in a regular python list called `unique_numbers`. Manually check through `unique_numbers` to ensure the order the numbers appear is the same order they (uniquely) appear in your dataset:"
   ]
  },
  {
   "cell_type": "code",
   "execution_count": 6,
   "metadata": {
    "collapsed": true
   },
   "outputs": [],
   "source": [
    "uniquecallers = df.In.unique().tolist()"
   ]
  },
  {
   "cell_type": "markdown",
   "metadata": {},
   "source": [
    "Using some domain expertise, your intuition should direct you to know that people are likely to behave differently on weekends vs on weekdays:\n",
    "\n",
    "#### On Weekends\n",
    "1. People probably don't go into work\n",
    "1. They probably sleep in late on Saturday\n",
    "1. They probably run a bunch of random errands, since they couldn't during the week\n",
    "1. They should be home, at least during the very late hours, e.g. 1-4 AM\n",
    "\n",
    "#### On Weekdays\n",
    "1. People probably are at work during normal working hours\n",
    "1. They probably are at home in the early morning and during the late night\n",
    "1. They probably spend time commuting between work and home everyday"
   ]
  },
  {
   "cell_type": "code",
   "execution_count": 7,
   "metadata": {},
   "outputs": [
    {
     "name": "stdout",
     "output_type": "stream",
     "text": [
      "Examining person:  0\n"
     ]
    }
   ],
   "source": [
    "print(\"Examining person: \", 0)"
   ]
  },
  {
   "cell_type": "markdown",
   "metadata": {
    "collapsed": true
   },
   "source": [
    "Create a slice called `user1` that filters to only include dataset records where the `In` feature (user phone number) is equal to the first number on your unique list above:"
   ]
  },
  {
   "cell_type": "code",
   "execution_count": 8,
   "metadata": {
    "collapsed": true
   },
   "outputs": [],
   "source": [
    "user1slice = df.loc[:, 'In'] == uniquecallers[0]"
   ]
  },
  {
   "cell_type": "markdown",
   "metadata": {},
   "source": [
    "Alter your slice so that it includes only Weekday (Mon-Fri) values:"
   ]
  },
  {
   "cell_type": "code",
   "execution_count": 9,
   "metadata": {},
   "outputs": [
    {
     "data": {
      "text/html": [
       "<div>\n",
       "<style>\n",
       "    .dataframe thead tr:only-child th {\n",
       "        text-align: right;\n",
       "    }\n",
       "\n",
       "    .dataframe thead th {\n",
       "        text-align: left;\n",
       "    }\n",
       "\n",
       "    .dataframe tbody tr th {\n",
       "        vertical-align: top;\n",
       "    }\n",
       "</style>\n",
       "<table border=\"1\" class=\"dataframe\">\n",
       "  <thead>\n",
       "    <tr style=\"text-align: right;\">\n",
       "      <th></th>\n",
       "      <th>In</th>\n",
       "      <th>Out</th>\n",
       "      <th>Direction</th>\n",
       "      <th>CallDate</th>\n",
       "      <th>CallTime</th>\n",
       "      <th>DOW</th>\n",
       "      <th>Duration</th>\n",
       "      <th>TowerID</th>\n",
       "      <th>TowerLat</th>\n",
       "      <th>TowerLon</th>\n",
       "    </tr>\n",
       "  </thead>\n",
       "  <tbody>\n",
       "    <tr>\n",
       "      <th>161</th>\n",
       "      <td>4638472273</td>\n",
       "      <td>5912117253</td>\n",
       "      <td>Missed</td>\n",
       "      <td>2010-12-27</td>\n",
       "      <td>18:41:14.639828</td>\n",
       "      <td>Mon</td>\n",
       "      <td>0:00:20.304073</td>\n",
       "      <td>09756fb6-223f-43e9-9402-9b90c7048639</td>\n",
       "      <td>32.805667</td>\n",
       "      <td>-96.796667</td>\n",
       "    </tr>\n",
       "    <tr>\n",
       "      <th>194</th>\n",
       "      <td>4638472273</td>\n",
       "      <td>4217121115</td>\n",
       "      <td>Incoming</td>\n",
       "      <td>2010-12-28</td>\n",
       "      <td>21:36:14.190286</td>\n",
       "      <td>Tue</td>\n",
       "      <td>0:05:56.080785</td>\n",
       "      <td>bcec0121-164d-406c-8c04-d12870893992</td>\n",
       "      <td>32.731611</td>\n",
       "      <td>-96.709417</td>\n",
       "    </tr>\n",
       "    <tr>\n",
       "      <th>195</th>\n",
       "      <td>4638472273</td>\n",
       "      <td>6022767590</td>\n",
       "      <td>Incoming</td>\n",
       "      <td>2010-12-28</td>\n",
       "      <td>19:57:19.501140</td>\n",
       "      <td>Tue</td>\n",
       "      <td>0:02:38.219371</td>\n",
       "      <td>bcec0121-164d-406c-8c04-d12870893992</td>\n",
       "      <td>32.731611</td>\n",
       "      <td>-96.709417</td>\n",
       "    </tr>\n",
       "    <tr>\n",
       "      <th>196</th>\n",
       "      <td>4638472273</td>\n",
       "      <td>5621270003</td>\n",
       "      <td>Incoming</td>\n",
       "      <td>2010-12-28</td>\n",
       "      <td>17:10:15.465881</td>\n",
       "      <td>Tue</td>\n",
       "      <td>0:01:56.250335</td>\n",
       "      <td>78512965-e30b-4734-ae92-47b910fe3d7f</td>\n",
       "      <td>32.899944</td>\n",
       "      <td>-96.910389</td>\n",
       "    </tr>\n",
       "    <tr>\n",
       "      <th>197</th>\n",
       "      <td>4638472273</td>\n",
       "      <td>5481755331</td>\n",
       "      <td>Incoming</td>\n",
       "      <td>2010-12-28</td>\n",
       "      <td>16:20:11.532130</td>\n",
       "      <td>Tue</td>\n",
       "      <td>0:03:56.069765</td>\n",
       "      <td>95d7920d-c3cd-4d20-a568-9a55800dc807</td>\n",
       "      <td>32.899944</td>\n",
       "      <td>-96.910389</td>\n",
       "    </tr>\n",
       "    <tr>\n",
       "      <th>198</th>\n",
       "      <td>4638472273</td>\n",
       "      <td>7756914135</td>\n",
       "      <td>Incoming</td>\n",
       "      <td>2010-12-28</td>\n",
       "      <td>19:41:43.122708</td>\n",
       "      <td>Tue</td>\n",
       "      <td>0:05:08.460490</td>\n",
       "      <td>0db53dd3-eb9c-4344-abc5-c2d74ebc3eec</td>\n",
       "      <td>32.731611</td>\n",
       "      <td>-96.709417</td>\n",
       "    </tr>\n",
       "    <tr>\n",
       "      <th>199</th>\n",
       "      <td>4638472273</td>\n",
       "      <td>6150928001</td>\n",
       "      <td>Incoming</td>\n",
       "      <td>2010-12-28</td>\n",
       "      <td>18:05:51.247679</td>\n",
       "      <td>Tue</td>\n",
       "      <td>0:04:13.034708</td>\n",
       "      <td>f9a9468b-dca3-4510-8fc1-1cba8dc77882</td>\n",
       "      <td>32.753500</td>\n",
       "      <td>-96.742528</td>\n",
       "    </tr>\n",
       "    <tr>\n",
       "      <th>200</th>\n",
       "      <td>4638472273</td>\n",
       "      <td>8180005891</td>\n",
       "      <td>Incoming</td>\n",
       "      <td>2010-12-28</td>\n",
       "      <td>15:27:51.105337</td>\n",
       "      <td>Tue</td>\n",
       "      <td>0:03:30.047757</td>\n",
       "      <td>95c91e8b-6ff1-4893-9df3-b0342636bd25</td>\n",
       "      <td>32.899944</td>\n",
       "      <td>-96.910389</td>\n",
       "    </tr>\n",
       "    <tr>\n",
       "      <th>201</th>\n",
       "      <td>4638472273</td>\n",
       "      <td>6022767590</td>\n",
       "      <td>Missed</td>\n",
       "      <td>2010-12-28</td>\n",
       "      <td>20:43:50.766312</td>\n",
       "      <td>Tue</td>\n",
       "      <td>0:03:23.651369</td>\n",
       "      <td>cd9f3b1a-2eb8-4cdb-86d1-5d4c2740b1dc</td>\n",
       "      <td>32.731722</td>\n",
       "      <td>-96.709500</td>\n",
       "    </tr>\n",
       "    <tr>\n",
       "      <th>245</th>\n",
       "      <td>4638472273</td>\n",
       "      <td>2666307251</td>\n",
       "      <td>Incoming</td>\n",
       "      <td>2010-12-29</td>\n",
       "      <td>18:20:56.628554</td>\n",
       "      <td>Wed</td>\n",
       "      <td>0:03:55.018670</td>\n",
       "      <td>f9a9468b-dca3-4510-8fc1-1cba8dc77882</td>\n",
       "      <td>32.753500</td>\n",
       "      <td>-96.742528</td>\n",
       "    </tr>\n",
       "  </tbody>\n",
       "</table>\n",
       "</div>"
      ],
      "text/plain": [
       "             In         Out Direction   CallDate        CallTime  DOW  \\\n",
       "161  4638472273  5912117253    Missed 2010-12-27 18:41:14.639828  Mon   \n",
       "194  4638472273  4217121115  Incoming 2010-12-28 21:36:14.190286  Tue   \n",
       "195  4638472273  6022767590  Incoming 2010-12-28 19:57:19.501140  Tue   \n",
       "196  4638472273  5621270003  Incoming 2010-12-28 17:10:15.465881  Tue   \n",
       "197  4638472273  5481755331  Incoming 2010-12-28 16:20:11.532130  Tue   \n",
       "198  4638472273  7756914135  Incoming 2010-12-28 19:41:43.122708  Tue   \n",
       "199  4638472273  6150928001  Incoming 2010-12-28 18:05:51.247679  Tue   \n",
       "200  4638472273  8180005891  Incoming 2010-12-28 15:27:51.105337  Tue   \n",
       "201  4638472273  6022767590    Missed 2010-12-28 20:43:50.766312  Tue   \n",
       "245  4638472273  2666307251  Incoming 2010-12-29 18:20:56.628554  Wed   \n",
       "\n",
       "           Duration                               TowerID   TowerLat  \\\n",
       "161  0:00:20.304073  09756fb6-223f-43e9-9402-9b90c7048639  32.805667   \n",
       "194  0:05:56.080785  bcec0121-164d-406c-8c04-d12870893992  32.731611   \n",
       "195  0:02:38.219371  bcec0121-164d-406c-8c04-d12870893992  32.731611   \n",
       "196  0:01:56.250335  78512965-e30b-4734-ae92-47b910fe3d7f  32.899944   \n",
       "197  0:03:56.069765  95d7920d-c3cd-4d20-a568-9a55800dc807  32.899944   \n",
       "198  0:05:08.460490  0db53dd3-eb9c-4344-abc5-c2d74ebc3eec  32.731611   \n",
       "199  0:04:13.034708  f9a9468b-dca3-4510-8fc1-1cba8dc77882  32.753500   \n",
       "200  0:03:30.047757  95c91e8b-6ff1-4893-9df3-b0342636bd25  32.899944   \n",
       "201  0:03:23.651369  cd9f3b1a-2eb8-4cdb-86d1-5d4c2740b1dc  32.731722   \n",
       "245  0:03:55.018670  f9a9468b-dca3-4510-8fc1-1cba8dc77882  32.753500   \n",
       "\n",
       "      TowerLon  \n",
       "161 -96.796667  \n",
       "194 -96.709417  \n",
       "195 -96.709417  \n",
       "196 -96.910389  \n",
       "197 -96.910389  \n",
       "198 -96.709417  \n",
       "199 -96.742528  \n",
       "200 -96.910389  \n",
       "201 -96.709500  \n",
       "245 -96.742528  "
      ]
     },
     "execution_count": 9,
     "metadata": {},
     "output_type": "execute_result"
    }
   ],
   "source": [
    "user1sliceA = (df.loc[:, 'In'] == uniquecallers[0])\n",
    "user1sliceB = (df.loc[:, 'DOW'].isin(['Mon', 'Tue', 'Wed', 'Thr', 'Fri']))\n",
    "user1slice2 = (user1sliceA & user1sliceB)\n",
    "user1 = df.loc[user1slice2, :]\n",
    "user1.head(10)"
   ]
  },
  {
   "cell_type": "markdown",
   "metadata": {},
   "source": [
    "The idea is that the call was placed before 5pm. From Midnight-730a, the user is probably sleeping and won't call / wake up to take a call. There should be a brief time in the morning during their commute to work, then they'll spend the entire day at work. So the assumption is that most of the time is spent either at work, or in 2nd, at home:"
   ]
  },
  {
   "cell_type": "code",
   "execution_count": 10,
   "metadata": {},
   "outputs": [
    {
     "data": {
      "text/html": [
       "<div>\n",
       "<style>\n",
       "    .dataframe thead tr:only-child th {\n",
       "        text-align: right;\n",
       "    }\n",
       "\n",
       "    .dataframe thead th {\n",
       "        text-align: left;\n",
       "    }\n",
       "\n",
       "    .dataframe tbody tr th {\n",
       "        vertical-align: top;\n",
       "    }\n",
       "</style>\n",
       "<table border=\"1\" class=\"dataframe\">\n",
       "  <thead>\n",
       "    <tr style=\"text-align: right;\">\n",
       "      <th></th>\n",
       "      <th>In</th>\n",
       "      <th>Out</th>\n",
       "      <th>Direction</th>\n",
       "      <th>CallDate</th>\n",
       "      <th>CallTime</th>\n",
       "      <th>DOW</th>\n",
       "      <th>Duration</th>\n",
       "      <th>TowerID</th>\n",
       "      <th>TowerLat</th>\n",
       "      <th>TowerLon</th>\n",
       "    </tr>\n",
       "  </thead>\n",
       "  <tbody>\n",
       "    <tr>\n",
       "      <th>197</th>\n",
       "      <td>4638472273</td>\n",
       "      <td>5481755331</td>\n",
       "      <td>Incoming</td>\n",
       "      <td>2010-12-28</td>\n",
       "      <td>16:20:11.532130</td>\n",
       "      <td>Tue</td>\n",
       "      <td>0:03:56.069765</td>\n",
       "      <td>95d7920d-c3cd-4d20-a568-9a55800dc807</td>\n",
       "      <td>32.899944</td>\n",
       "      <td>-96.910389</td>\n",
       "    </tr>\n",
       "    <tr>\n",
       "      <th>200</th>\n",
       "      <td>4638472273</td>\n",
       "      <td>8180005891</td>\n",
       "      <td>Incoming</td>\n",
       "      <td>2010-12-28</td>\n",
       "      <td>15:27:51.105337</td>\n",
       "      <td>Tue</td>\n",
       "      <td>0:03:30.047757</td>\n",
       "      <td>95c91e8b-6ff1-4893-9df3-b0342636bd25</td>\n",
       "      <td>32.899944</td>\n",
       "      <td>-96.910389</td>\n",
       "    </tr>\n",
       "    <tr>\n",
       "      <th>248</th>\n",
       "      <td>4638472273</td>\n",
       "      <td>8180005891</td>\n",
       "      <td>Missed</td>\n",
       "      <td>2010-12-29</td>\n",
       "      <td>09:13:35.198987</td>\n",
       "      <td>Wed</td>\n",
       "      <td>0:02:10.574446</td>\n",
       "      <td>95c91e8b-6ff1-4893-9df3-b0342636bd25</td>\n",
       "      <td>32.899944</td>\n",
       "      <td>-96.910389</td>\n",
       "    </tr>\n",
       "    <tr>\n",
       "      <th>249</th>\n",
       "      <td>4638472273</td>\n",
       "      <td>2145623768</td>\n",
       "      <td>Incoming</td>\n",
       "      <td>2010-12-29</td>\n",
       "      <td>06:02:11.319738</td>\n",
       "      <td>Wed</td>\n",
       "      <td>0:04:34.436752</td>\n",
       "      <td>9baa92e7-e990-4e9e-8c0a-4c17cb4ecc7c</td>\n",
       "      <td>32.731611</td>\n",
       "      <td>-96.709417</td>\n",
       "    </tr>\n",
       "    <tr>\n",
       "      <th>250</th>\n",
       "      <td>4638472273</td>\n",
       "      <td>8068555700</td>\n",
       "      <td>Incoming</td>\n",
       "      <td>2010-12-29</td>\n",
       "      <td>13:54:14.724722</td>\n",
       "      <td>Wed</td>\n",
       "      <td>0:03:31.297111</td>\n",
       "      <td>fadaa83f-6001-45fd-aa4a-17d6c6b7ec00</td>\n",
       "      <td>32.899944</td>\n",
       "      <td>-96.910389</td>\n",
       "    </tr>\n",
       "    <tr>\n",
       "      <th>251</th>\n",
       "      <td>4638472273</td>\n",
       "      <td>8180005891</td>\n",
       "      <td>Incoming</td>\n",
       "      <td>2010-12-29</td>\n",
       "      <td>15:45:52.307534</td>\n",
       "      <td>Wed</td>\n",
       "      <td>0:05:34.587700</td>\n",
       "      <td>bf3bf815-3795-4be6-bec3-12b8f713e50d</td>\n",
       "      <td>32.899944</td>\n",
       "      <td>-96.910389</td>\n",
       "    </tr>\n",
       "    <tr>\n",
       "      <th>321</th>\n",
       "      <td>4638472273</td>\n",
       "      <td>2145623768</td>\n",
       "      <td>Incoming</td>\n",
       "      <td>2010-12-30</td>\n",
       "      <td>06:26:22.828987</td>\n",
       "      <td>Thr</td>\n",
       "      <td>0:02:18.762047</td>\n",
       "      <td>9baa92e7-e990-4e9e-8c0a-4c17cb4ecc7c</td>\n",
       "      <td>32.731611</td>\n",
       "      <td>-96.709417</td>\n",
       "    </tr>\n",
       "    <tr>\n",
       "      <th>323</th>\n",
       "      <td>4638472273</td>\n",
       "      <td>8180005891</td>\n",
       "      <td>Missed</td>\n",
       "      <td>2010-12-30</td>\n",
       "      <td>09:31:15.879551</td>\n",
       "      <td>Thr</td>\n",
       "      <td>0:00:40.900583</td>\n",
       "      <td>95d7920d-c3cd-4d20-a568-9a55800dc807</td>\n",
       "      <td>32.899944</td>\n",
       "      <td>-96.910389</td>\n",
       "    </tr>\n",
       "    <tr>\n",
       "      <th>403</th>\n",
       "      <td>4638472273</td>\n",
       "      <td>4217121115</td>\n",
       "      <td>Incoming</td>\n",
       "      <td>2010-12-31</td>\n",
       "      <td>08:29:48.427392</td>\n",
       "      <td>Fri</td>\n",
       "      <td>0:01:50.428576</td>\n",
       "      <td>fadaa83f-6001-45fd-aa4a-17d6c6b7ec00</td>\n",
       "      <td>32.899944</td>\n",
       "      <td>-96.910389</td>\n",
       "    </tr>\n",
       "    <tr>\n",
       "      <th>406</th>\n",
       "      <td>4638472273</td>\n",
       "      <td>2946222380</td>\n",
       "      <td>Incoming</td>\n",
       "      <td>2010-12-31</td>\n",
       "      <td>08:55:44.522912</td>\n",
       "      <td>Fri</td>\n",
       "      <td>0:02:11.781534</td>\n",
       "      <td>fadaa83f-6001-45fd-aa4a-17d6c6b7ec00</td>\n",
       "      <td>32.899944</td>\n",
       "      <td>-96.910389</td>\n",
       "    </tr>\n",
       "  </tbody>\n",
       "</table>\n",
       "</div>"
      ],
      "text/plain": [
       "             In         Out Direction   CallDate        CallTime  DOW  \\\n",
       "197  4638472273  5481755331  Incoming 2010-12-28 16:20:11.532130  Tue   \n",
       "200  4638472273  8180005891  Incoming 2010-12-28 15:27:51.105337  Tue   \n",
       "248  4638472273  8180005891    Missed 2010-12-29 09:13:35.198987  Wed   \n",
       "249  4638472273  2145623768  Incoming 2010-12-29 06:02:11.319738  Wed   \n",
       "250  4638472273  8068555700  Incoming 2010-12-29 13:54:14.724722  Wed   \n",
       "251  4638472273  8180005891  Incoming 2010-12-29 15:45:52.307534  Wed   \n",
       "321  4638472273  2145623768  Incoming 2010-12-30 06:26:22.828987  Thr   \n",
       "323  4638472273  8180005891    Missed 2010-12-30 09:31:15.879551  Thr   \n",
       "403  4638472273  4217121115  Incoming 2010-12-31 08:29:48.427392  Fri   \n",
       "406  4638472273  2946222380  Incoming 2010-12-31 08:55:44.522912  Fri   \n",
       "\n",
       "           Duration                               TowerID   TowerLat  \\\n",
       "197  0:03:56.069765  95d7920d-c3cd-4d20-a568-9a55800dc807  32.899944   \n",
       "200  0:03:30.047757  95c91e8b-6ff1-4893-9df3-b0342636bd25  32.899944   \n",
       "248  0:02:10.574446  95c91e8b-6ff1-4893-9df3-b0342636bd25  32.899944   \n",
       "249  0:04:34.436752  9baa92e7-e990-4e9e-8c0a-4c17cb4ecc7c  32.731611   \n",
       "250  0:03:31.297111  fadaa83f-6001-45fd-aa4a-17d6c6b7ec00  32.899944   \n",
       "251  0:05:34.587700  bf3bf815-3795-4be6-bec3-12b8f713e50d  32.899944   \n",
       "321  0:02:18.762047  9baa92e7-e990-4e9e-8c0a-4c17cb4ecc7c  32.731611   \n",
       "323  0:00:40.900583  95d7920d-c3cd-4d20-a568-9a55800dc807  32.899944   \n",
       "403  0:01:50.428576  fadaa83f-6001-45fd-aa4a-17d6c6b7ec00  32.899944   \n",
       "406  0:02:11.781534  fadaa83f-6001-45fd-aa4a-17d6c6b7ec00  32.899944   \n",
       "\n",
       "      TowerLon  \n",
       "197 -96.910389  \n",
       "200 -96.910389  \n",
       "248 -96.910389  \n",
       "249 -96.709417  \n",
       "250 -96.910389  \n",
       "251 -96.910389  \n",
       "321 -96.709417  \n",
       "323 -96.910389  \n",
       "403 -96.910389  \n",
       "406 -96.910389  "
      ]
     },
     "execution_count": 10,
     "metadata": {},
     "output_type": "execute_result"
    }
   ],
   "source": [
    "user1slice3A = (df.loc[:, 'CallTime'] < '17:00:00')\n",
    "user1 = user1.loc[user1slice3A, :]\n",
    "user1.head(10)"
   ]
  },
  {
   "cell_type": "markdown",
   "metadata": {},
   "source": [
    "Plot the Cell Towers the user connected to"
   ]
  },
  {
   "cell_type": "code",
   "execution_count": 11,
   "metadata": {},
   "outputs": [
    {
     "data": {
      "image/png": "[encoded data removed]",
      "text/plain": [
       "<matplotlib.figure.Figure at 0x11040e3c8>"
      ]
     },
     "metadata": {},
     "output_type": "display_data"
    }
   ],
   "source": [
    "fig = plt.figure()\n",
    "ax = fig.add_subplot(111)\n",
    "ax.scatter(user1.TowerLat,user1.TowerLon, c='g', marker='o', alpha=0.2)\n",
    "ax.set_title('Weekday Calls (<5p)')\n",
    "ax.set_xlabel('Lat')\n",
    "ax.set_ylabel('Lon')\n",
    "plt.show()"
   ]
  },
  {
   "cell_type": "code",
   "execution_count": 12,
   "metadata": {
    "collapsed": true
   },
   "outputs": [],
   "source": [
    "def doKMeans(data, n_clusters=2):\n",
    "    # TODO: Be sure to only feed in Lat and Lon coordinates to the KMeans algo, since none of the other\n",
    "    # data is suitable for your purposes. Since both Lat and Lon are (approximately) on the same scale,\n",
    "    # no feature scaling is required. Print out the centroid locations and add them onto your scatter\n",
    "    # plot. Use a distinguishable marker and color.\n",
    "    #\n",
    "    # Hint: Make sure you fit ONLY the coordinates, and in the CORRECT order (lat first). This is part\n",
    "    # of your domain expertise. Also, *YOU* need to create, initialize (and return) the variable named\n",
    "    # `model` here, which will be a SKLearn K-Means model for this to work:\n",
    "    \n",
    "    # Let's plot your data with a '.' marker, a 0.3 alpha at the Longitude,\n",
    "    # and Latitude locations in your dataset. Longitude = x, Latitude = y\n",
    "    fig = plt.figure()\n",
    "    ax = fig.add_subplot(111)\n",
    "    ax.scatter(data.TowerLat, data.TowerLon, c='pink', marker='.', alpha=0.3)\n",
    "\n",
    "    \n",
    "    # TODO: Filter `df` using indexing so it only contains Longitude and Latitude,\n",
    "    # since the remaining columns aren't really applicable for this lab:\n",
    "    #\n",
    "    columns = ['TowerLat', 'TowerLon']\n",
    "    data = data.loc[:, columns]\n",
    "\n",
    "    # TODO: Use K-Means to try and find seven cluster centers in this df.\n",
    "    # Be sure to name your kmeans model `model` so that the printing works.\n",
    "    #\n",
    "    model = KMeans(n_clusters=n_clusters).fit(data)\n",
    "\n",
    "\n",
    "    # Now we can print and plot the centroids:\n",
    "    centroids = model.cluster_centers_\n",
    "    # print(centroids)\n",
    "    ax.scatter(centroids[:,0], centroids[:,1], marker='x', c='red', alpha=0.5, linewidths=3, s=169)\n",
    "        \n",
    "    return model"
   ]
  },
  {
   "cell_type": "markdown",
   "metadata": {},
   "source": [
    "Let's tun K-Means with `K=3` or `K=4`. There really should only be a two areas of concentration. If you notice multiple areas that are \"hot\" (multiple areas the user spends a lot of time at that are FAR apart from one another), then increase K=5, with the goal being that all centroids except two will sweep up the annoying outliers and not-home, not-work travel occasions. the other two will zero in on the user's approximate home location and work locations. Or rather the location of the cell tower closest to them....."
   ]
  },
  {
   "cell_type": "code",
   "execution_count": 13,
   "metadata": {},
   "outputs": [],
   "source": [
    "model = doKMeans(user1, 4)"
   ]
  },
  {
   "cell_type": "markdown",
   "metadata": {},
   "source": [
    "Print out the mean `CallTime` value for the samples belonging to the cluster with the LEAST samples attached to it. If our logic is correct, the cluster with the MOST samples will be work. The cluster with the 2nd most samples will be home. And the `K=3` cluster with the least samples should be somewhere in between the two. What time, on average, is the user in between home and work, between the midnight and 5pm?"
   ]
  },
  {
   "cell_type": "code",
   "execution_count": 14,
   "metadata": {},
   "outputs": [
    {
     "name": "stdout",
     "output_type": "stream",
     "text": [
      "\n",
      "  Cluster With Fewest Samples:  2\n",
      "    Its Waypoint Time:  0 days 07:47:50.059087\n"
     ]
    }
   ],
   "source": [
    "midWayClusterIndices = clusterWithFewestSamples(model)\n",
    "midWaySamples = user1[midWayClusterIndices]\n",
    "print(\"    Its Waypoint Time: \", midWaySamples.CallTime.mean())"
   ]
  },
  {
   "cell_type": "code",
   "execution_count": 15,
   "metadata": {},
   "outputs": [],
   "source": [
    "# Broken due to changing return value to integer index for max cluster\n",
    "# midWayClusterIndices = clusterWithMostSamples(model)\n",
    "# midWaySamples = user1[midWayClusterIndices]\n",
    "# print(\"    Its Waypoint Time: \", midWaySamples.CallTime.mean())"
   ]
  },
  {
   "cell_type": "markdown",
   "metadata": {},
   "source": [
    "Let's visualize the results! First draw the X's for the clusters:"
   ]
  },
  {
   "cell_type": "code",
   "execution_count": 16,
   "metadata": {},
   "outputs": [
    {
     "data": {
      "image/png": "[encoded data removed]",
      "text/plain": [
       "<matplotlib.figure.Figure at 0x11040ed30>"
      ]
     },
     "metadata": {},
     "output_type": "display_data"
    }
   ],
   "source": [
    "ax.scatter(model.cluster_centers_[:,1], model.cluster_centers_[:,0], s=169, c='r', marker='x', alpha=0.8, linewidths=2)\n",
    "ax.set_title('Weekday Calls Centroids')\n",
    "plt.show()"
   ]
  },
  {
   "cell_type": "code",
   "execution_count": 40,
   "metadata": {
    "scrolled": false
   },
   "outputs": [
    {
     "name": "stderr",
     "output_type": "stream",
     "text": [
      "/Users/malcolmgin/anaconda3/lib/python3.6/site-packages/matplotlib/pyplot.py:524: RuntimeWarning: More than 20 figures have been opened. Figures created through the pyplot interface (`matplotlib.pyplot.figure`) are retained until explicitly closed and may consume too much memory. (To control this warning, see the rcParam `figure.max_open_warning`).\n",
      "  max_open_warning, RuntimeWarning)\n"
     ]
    },
    {
     "name": "stdout",
     "output_type": "stream",
     "text": [
      "\n",
      "  Cluster with Most Samples:  0\n",
      "\n",
      "  Cluster with Most Samples:  0\n",
      "\n",
      "  Cluster with Most Samples:  0\n",
      "\n",
      "  Cluster with Most Samples:  0\n",
      "\n",
      "  Cluster with Most Samples:  0\n",
      "\n",
      "  Cluster with Most Samples:  0\n",
      "\n",
      "  Cluster with Most Samples:  0\n",
      "\n",
      "  Cluster with Most Samples:  0\n",
      "\n",
      "  Cluster with Most Samples:  0\n",
      "\n",
      "  Cluster with Most Samples:  0\n",
      "telephone: 4638472273 - cluster: 0: \n",
      "    Max Centroid: https://www.google.com/maps/dir//@32.900000903,-96.9095163858,17z\n",
      "telephone: 1559410755 - cluster: 0: \n",
      "    Max Centroid: https://www.google.com/maps/dir//@32.6955770817,-96.9352272496,17z\n",
      "telephone: 4931532174 - cluster: 0: \n",
      "    Max Centroid: https://www.google.com/maps/dir//@32.7799229941,-96.8933879054,17z\n",
      "telephone: 2419930464 - cluster: 0: \n",
      "    Max Centroid: https://www.google.com/maps/dir//@32.8537122482,-96.8472892967,17z\n",
      "telephone: 1884182865 - cluster: 0: \n",
      "    Max Centroid: https://www.google.com/maps/dir//@32.9219588585,-96.7576812128,17z\n",
      "telephone: 3688089071 - cluster: 0: \n",
      "    Max Centroid: https://www.google.com/maps/dir//@32.8119848618,-96.870347057,17z\n",
      "telephone: 4555003213 - cluster: 0: \n",
      "    Max Centroid: https://www.google.com/maps/dir//@32.7520379293,-96.7443749378,17z\n",
      "telephone: 2068627935 - cluster: 0: \n",
      "    Max Centroid: https://www.google.com/maps/dir//@32.7209734721,-96.8303918374,17z\n",
      "telephone: 2894365987 - cluster: 0: \n",
      "    Max Centroid: https://www.google.com/maps/dir//@32.7214532828,-96.8911545847,17z\n",
      "telephone: 8549533077 - cluster: 0: \n",
      "    Max Centroid: https://www.google.com/maps/dir//@32.9850094797,-96.8026233793,17z\n"
     ]
    }
   ],
   "source": [
    "usercentroids = []\n",
    "\n",
    "for x in (uniquecallers):\n",
    "    usersliceA = (df.loc[:, 'In'] == x)\n",
    "    usersliceB = (df.loc[:, 'DOW'].isin(['Mon', 'Tue', 'Wed', 'Thr', 'Fri']))\n",
    "    usersliceC = (df.loc[:, 'CallTime'] < '17:00:00')\n",
    "    userslice = (usersliceA & usersliceB & usersliceC)\n",
    "    \n",
    "    userframe = df.loc[userslice, :]\n",
    "    \n",
    "    model = doKMeans(userframe, 3)\n",
    "    \n",
    "    maxCluster = clusterWithMostSamples(model)\n",
    "        \n",
    "    usercentroids.append([x, maxCluster, model.cluster_centers_[maxCluster]])    \n",
    "\n",
    "usercentroids    \n",
    "\n",
    "urlpre = 'https://www.google.com/maps/dir//@'\n",
    "urlpost = ',17z'\n",
    "\n",
    "for x in usercentroids:\n",
    "    print('telephone: ' + str(x[0]) + ' - cluster: ' + str(x[1]) + ': ')\n",
    "    # middle: '32.9000436,-96.9115099'\n",
    "    print('    Max Centroid: ' + urlpre + str(x[2][0]) + ',' + str(x[2][1])+ urlpost)"
   ]
  },
  {
   "cell_type": "code",
   "execution_count": 55,
   "metadata": {
    "scrolled": false
   },
   "outputs": [
    {
     "name": "stderr",
     "output_type": "stream",
     "text": [
      "/Users/malcolmgin/anaconda3/lib/python3.6/site-packages/matplotlib/pyplot.py:524: RuntimeWarning: More than 20 figures have been opened. Figures created through the pyplot interface (`matplotlib.pyplot.figure`) are retained until explicitly closed and may consume too much memory. (To control this warning, see the rcParam `figure.max_open_warning`).\n",
      "  max_open_warning, RuntimeWarning)\n"
     ]
    },
    {
     "name": "stdout",
     "output_type": "stream",
     "text": [
      "\n",
      "  Cluster With Fewest Samples:  2\n",
      "    ( 4638472273 ): Waypoint Time:  0 days 07:49:53.168115\n",
      "     centroids:  [[ 32.9000009  -96.90951639]\n",
      " [ 32.73323174 -96.70816184]\n",
      " [ 32.86348712 -96.83818346]]\n",
      "\n",
      "  Cluster With Fewest Samples:  0\n",
      "    ( 1559410755 ): Waypoint Time:  0 days 07:50:31.646646\n",
      "     centroids:  [[ 32.73762409 -96.9164561 ]\n",
      " [ 32.87096795 -96.92355104]\n",
      " [ 32.69557708 -96.93522725]]\n",
      "\n",
      "  Cluster With Fewest Samples:  2\n",
      "    ( 4931532174 ): Waypoint Time:  0 days 07:53:05.627397\n",
      "     centroids:  [[ 32.77992299 -96.89338791]\n",
      " [ 32.86562866 -96.86563953]\n",
      " [ 32.81309497 -96.88911725]]\n",
      "\n",
      "  Cluster With Fewest Samples:  0\n",
      "    ( 2419930464 ): Waypoint Time:  0 days 11:09:10.422402\n",
      "     centroids:  [[ 32.86284941 -96.849683  ]\n",
      " [ 32.85371225 -96.8472893 ]\n",
      " [ 32.84684682 -96.83511392]]\n",
      "\n",
      "  Cluster With Fewest Samples:  0\n",
      "    ( 1884182865 ): Waypoint Time:  0 days 07:48:00.978543\n",
      "     centroids:  [[ 32.909167   -96.741944  ]\n",
      " [ 32.875      -96.730278  ]\n",
      " [ 32.92195886 -96.75768121]]\n",
      "\n",
      "  Cluster With Fewest Samples:  2\n",
      "    ( 3688089071 ): Waypoint Time:  0 days 07:46:28.366518\n",
      "     centroids:  [[ 32.770833   -96.685556  ]\n",
      " [ 32.81198486 -96.87034706]\n",
      " [ 32.80241723 -96.81450799]]\n",
      "\n",
      "  Cluster With Fewest Samples:  0\n",
      "    ( 4555003213 ): Waypoint Time:  0 days 07:58:52.698478\n",
      "     centroids:  [[ 32.7375     -96.796111  ]\n",
      " [ 32.75203793 -96.74437494]\n",
      " [ 32.70494423 -96.84066398]]\n",
      "\n",
      "  Cluster With Fewest Samples:  2\n",
      "    ( 2068627935 ): Waypoint Time:  0 days 07:49:09.050047\n",
      "     centroids:  [[ 32.72097347 -96.83039184]\n",
      " [ 32.703056   -96.604444  ]\n",
      " [ 32.71410598 -96.75520357]]\n",
      "\n",
      "  Cluster With Fewest Samples:  2\n",
      "    ( 2894365987 ): Waypoint Time:  0 days 07:48:21.025597\n",
      "     centroids:  [[ 32.77396536 -96.81270407]\n",
      " [ 32.72145328 -96.89115458]\n",
      " [ 32.741889   -96.857611  ]]\n",
      "\n",
      "  Cluster With Fewest Samples:  2\n",
      "    ( 8549533077 ): Waypoint Time:  0 days 07:51:00.414270\n",
      "     centroids:  [[ 32.98500948 -96.80262338]\n",
      " [ 32.77240328 -96.77896656]\n",
      " [ 32.93033402 -96.80360535]]\n",
      "telephone: 4638472273 - cluster: 2: \n",
      "    Min Centroid: https://www.google.com/maps/dir//@[ 32.9000009  -96.90951639],[ 32.73323174 -96.70816184],17z\n",
      "telephone: 1559410755 - cluster: 0: \n",
      "    Min Centroid: https://www.google.com/maps/dir//@[ 32.73762409 -96.9164561 ],[ 32.87096795 -96.92355104],17z\n",
      "telephone: 4931532174 - cluster: 2: \n",
      "    Min Centroid: https://www.google.com/maps/dir//@[ 32.77992299 -96.89338791],[ 32.86562866 -96.86563953],17z\n",
      "telephone: 2419930464 - cluster: 0: \n",
      "    Min Centroid: https://www.google.com/maps/dir//@[ 32.86284941 -96.849683  ],[ 32.85371225 -96.8472893 ],17z\n",
      "telephone: 1884182865 - cluster: 0: \n",
      "    Min Centroid: https://www.google.com/maps/dir//@[ 32.909167 -96.741944],[ 32.875    -96.730278],17z\n",
      "telephone: 3688089071 - cluster: 2: \n",
      "    Min Centroid: https://www.google.com/maps/dir//@[ 32.770833 -96.685556],[ 32.81198486 -96.87034706],17z\n",
      "telephone: 4555003213 - cluster: 0: \n",
      "    Min Centroid: https://www.google.com/maps/dir//@[ 32.7375   -96.796111],[ 32.75203793 -96.74437494],17z\n",
      "telephone: 2068627935 - cluster: 2: \n",
      "    Min Centroid: https://www.google.com/maps/dir//@[ 32.72097347 -96.83039184],[ 32.703056 -96.604444],17z\n",
      "telephone: 2894365987 - cluster: 2: \n",
      "    Min Centroid: https://www.google.com/maps/dir//@[ 32.77396536 -96.81270407],[ 32.72145328 -96.89115458],17z\n",
      "telephone: 8549533077 - cluster: 2: \n",
      "    Min Centroid: https://www.google.com/maps/dir//@[ 32.98500948 -96.80262338],[ 32.77240328 -96.77896656],17z\n"
     ]
    }
   ],
   "source": [
    "usercentroids = []\n",
    "\n",
    "for x in (uniquecallers):\n",
    "    usersliceA = (df.loc[:, 'In'] == x)\n",
    "    usersliceB = (df.loc[:, 'DOW'].isin(['Mon', 'Tue', 'Wed', 'Thr', 'Fri']))\n",
    "    usersliceC = (df.loc[:, 'CallTime'] < '17:00:00')\n",
    "    userslice = (usersliceA & usersliceB & usersliceC)\n",
    "    \n",
    "    userframe = df.loc[userslice, :]\n",
    "    \n",
    "    model = doKMeans(userframe, 3)\n",
    "    \n",
    "    # minCluster = clusterWithFewestSamples(model)\n",
    "    midWayClusterIndices = clusterWithFewestSamples(model)\n",
    "    midWaySamples = userframe[midWayClusterIndices]\n",
    "    print(\"    (\", x, \"): Waypoint Time: \", midWaySamples.CallTime.mean())\n",
    "    print('     centroids: ', model.cluster_centers_)\n",
    "    \n",
    "    usercentroids.append([x, int(model.labels_[midWayClusterIndices].mean()), model.cluster_centers_])    \n",
    "\n",
    "usercentroids    \n",
    "\n",
    "urlpre = 'https://www.google.com/maps/dir//@'\n",
    "urlpost = ',17z'\n",
    "\n",
    "for x in usercentroids:\n",
    "    print('telephone: ' + str(x[0]) + ' - cluster: ' + str(x[1]) + ': ')\n",
    "    # middle: '32.9000436,-96.9115099'\n",
    "    print('    Min Centroid: ' + urlpre + str(x[2][0]) + ',' + str(x[2][1])+ urlpost)"
   ]
  },
  {
   "cell_type": "code",
   "execution_count": null,
   "metadata": {
    "collapsed": true
   },
   "outputs": [],
   "source": []
  }
 ],
 "metadata": {
  "anaconda-cloud": {},
  "kernelspec": {
   "display_name": "Python 3",
   "language": "python",
   "name": "python3"
  },
  "language_info": {
   "codemirror_mode": {
    "name": "ipython",
    "version": 3
   },
   "file_extension": ".py",
   "mimetype": "text/x-python",
   "name": "python",
   "nbconvert_exporter": "python",
   "pygments_lexer": "ipython3",
   "version": "3.6.2"
  },
  "toc": {
   "colors": {
    "hover_highlight": "#DAA520",
    "running_highlight": "#FF0000",
    "selected_highlight": "#FFD700"
   },
   "moveMenuLeft": true,
   "nav_menu": {
    "height": "58px",
    "width": "252px"
   },
   "navigate_menu": true,
   "number_sections": true,
   "sideBar": true,
   "threshold": 4,
   "toc_cell": false,
   "toc_section_display": "block",
   "toc_window_display": false,
   "widenNotebook": false
  },
  "varInspector": {
   "cols": {
    "lenName": 16,
    "lenType": 16,
    "lenVar": 40
   },
   "kernels_config": {
    "python": {
     "delete_cmd_postfix": "",
     "delete_cmd_prefix": "del ",
     "library": "var_list.py",
     "varRefreshCmd": "print(var_dic_list())"
    },
    "r": {
     "delete_cmd_postfix": ") ",
     "delete_cmd_prefix": "rm(",
     "library": "var_list.r",
     "varRefreshCmd": "cat(var_dic_list()) "
    }
   },
   "types_to_exclude": [
    "module",
    "function",
    "builtin_function_or_method",
    "instance",
    "_Feature"
   ],
   "window_display": false
  }
 },
 "nbformat": 4,
 "nbformat_minor": 2
}
